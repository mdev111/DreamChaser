{
 "cells": [
  {
   "cell_type": "code",
   "execution_count": 54,
   "metadata": {
    "collapsed": true
   },
   "outputs": [],
   "source": [
    "import pandas as pd\n",
    "import numpy as np\n",
    "import matplotlib.pyplot as plt\n",
    "%matplotlib inline\n",
    "import datetime\n",
    "import numpy as np\n",
    "\n",
    "import math\n",
    "import numpy as np\n",
    "import matplotlib.pyplot as plt\n",
    "from mpl_toolkits.mplot3d import Axes3D\n",
    "\n",
    "from ipywidgets import *\n",
    "from IPython.display import display"
   ]
  },
  {
   "cell_type": "code",
   "execution_count": 2,
   "metadata": {
    "collapsed": true
   },
   "outputs": [],
   "source": [
    "df=pd.read_csv('transactionData.csv', encoding='ISO-8859-1')"
   ]
  },
  {
   "cell_type": "code",
   "execution_count": 63,
   "metadata": {
    "scrolled": false
   },
   "outputs": [
    {
     "data": {
      "text/plain": [
       "array(['Gas', 'Salary', 'Mobile', 'Common charges', 'Gym', 'Water',\n",
       "       'Electricity', 'Cash withdrawal', 'Rent', 'Internal transfer',\n",
       "       'Pocket money', 'Tv/Internet', 'Clothing', 'Scholarship',\n",
       "       'RoadTicket', 'Pharmacy', 'Restaurant', 'Pension', 'Food',\n",
       "       'Mortgage', 'Fuel', 'Pet', 'Public transport', 'Bar', 'Smoke',\n",
       "       'Travelling', 'Lunch', 'Furniture', 'Gift', 'Car service',\n",
       "       'Interest rate', 'Tuition fee 2', 'Tuition fee 1'], dtype=object)"
      ]
     },
     "execution_count": 63,
     "metadata": {},
     "output_type": "execute_result"
    }
   ],
   "source": [
    "df['Category'].unique()"
   ]
  },
  {
   "cell_type": "code",
   "execution_count": 3,
   "metadata": {
    "collapsed": true
   },
   "outputs": [],
   "source": [
    "df['Date_new'] = df['Transaction date'].apply(lambda x: pd.to_datetime(x))\n",
    "df['Date_month'] = df['Date_new'].apply(lambda x: x.month)\n",
    "df['Date_week'] = df['Date_new'].apply(lambda x: x.isocalendar()[1])\n",
    "df['date_int'] = df.Date_new.astype(np.int64)"
   ]
  },
  {
   "cell_type": "code",
   "execution_count": null,
   "metadata": {
    "collapsed": true
   },
   "outputs": [],
   "source": [
    "ax = df.plot(kind='scatter', x='pageCount', y='averageRating',color='blue')\n",
    "ax = many_df.plot(ax=ax,kind='scatter', x='pageCount', y='averageRating',color='red')"
   ]
  },
  {
   "cell_type": "code",
   "execution_count": null,
   "metadata": {
    "collapsed": true
   },
   "outputs": [],
   "source": [
    "df.plot(kind='line',x='Transaction date',y='tripduration',figsize=(10,8))\n"
   ]
  },
  {
   "cell_type": "code",
   "execution_count": 4,
   "metadata": {
    "collapsed": true
   },
   "outputs": [],
   "source": [
    "import re\n",
    "\n",
    "df['money'] = df['Amount'].apply(lambda x: pd.to_numeric(x[:-3], errors='coerce'))"
   ]
  },
  {
   "cell_type": "code",
   "execution_count": 11,
   "metadata": {
    "collapsed": true
   },
   "outputs": [],
   "source": [
    "few_df = df[df['money'] < 0]"
   ]
  },
  {
   "cell_type": "code",
   "execution_count": null,
   "metadata": {
    "collapsed": true
   },
   "outputs": [],
   "source": [
    "few_df"
   ]
  },
  {
   "cell_type": "code",
   "execution_count": null,
   "metadata": {
    "collapsed": true
   },
   "outputs": [],
   "source": [
    "few_df.groupby(['Account id(first 16 numbers)','Transaction day']).agg({'money':'mean'})"
   ]
  },
  {
   "cell_type": "code",
   "execution_count": 17,
   "metadata": {
    "collapsed": true
   },
   "outputs": [],
   "source": [
    "one_df = df[(df['Account id(first 16 numbers)'] == '12092048-41962343') & (df['money'] <0)]"
   ]
  },
  {
   "cell_type": "code",
   "execution_count": null,
   "metadata": {
    "collapsed": true,
    "scrolled": false
   },
   "outputs": [],
   "source": [
    "one_df.dtypes"
   ]
  },
  {
   "cell_type": "code",
   "execution_count": 16,
   "metadata": {},
   "outputs": [
    {
     "data": {
      "text/plain": [
       "118731"
      ]
     },
     "execution_count": 16,
     "metadata": {},
     "output_type": "execute_result"
    }
   ],
   "source": [
    "df['Account id(first 16 numbers)'].count()"
   ]
  },
  {
   "cell_type": "code",
   "execution_count": 48,
   "metadata": {},
   "outputs": [
    {
     "data": {
      "text/html": [
       "<div>\n",
       "<style>\n",
       "    .dataframe thead tr:only-child th {\n",
       "        text-align: right;\n",
       "    }\n",
       "\n",
       "    .dataframe thead th {\n",
       "        text-align: left;\n",
       "    }\n",
       "\n",
       "    .dataframe tbody tr th {\n",
       "        vertical-align: top;\n",
       "    }\n",
       "</style>\n",
       "<table border=\"1\" class=\"dataframe\">\n",
       "  <thead>\n",
       "    <tr style=\"text-align: right;\">\n",
       "      <th></th>\n",
       "      <th>Transaction date</th>\n",
       "      <th>Transaction day</th>\n",
       "      <th>Account type</th>\n",
       "      <th>Account id(first 16 numbers)</th>\n",
       "      <th>Bank name</th>\n",
       "      <th>Amount</th>\n",
       "      <th>Transaction type</th>\n",
       "      <th>Description</th>\n",
       "      <th>Category</th>\n",
       "      <th>Date_new</th>\n",
       "      <th>Date_month</th>\n",
       "      <th>Date_week</th>\n",
       "      <th>date_int</th>\n",
       "      <th>money</th>\n",
       "    </tr>\n",
       "  </thead>\n",
       "  <tbody>\n",
       "    <tr>\n",
       "      <th>10950</th>\n",
       "      <td>2015-04-15 09:54:47</td>\n",
       "      <td>Wednesday</td>\n",
       "      <td>Checking account</td>\n",
       "      <td>12092048-41962343</td>\n",
       "      <td>Raiffeisen bank</td>\n",
       "      <td>-51268 HUF</td>\n",
       "      <td>Card transaction</td>\n",
       "      <td>Autoszerviz</td>\n",
       "      <td>Car service</td>\n",
       "      <td>2015-04-15 09:54:47</td>\n",
       "      <td>4</td>\n",
       "      <td>16</td>\n",
       "      <td>1429091687000000000</td>\n",
       "      <td>-51268.0</td>\n",
       "    </tr>\n",
       "    <tr>\n",
       "      <th>26340</th>\n",
       "      <td>2015-09-06 18:40:30</td>\n",
       "      <td>Sunday</td>\n",
       "      <td>Checking account</td>\n",
       "      <td>12092048-41962343</td>\n",
       "      <td>Raiffeisen bank</td>\n",
       "      <td>-64036 HUF</td>\n",
       "      <td>Card transaction</td>\n",
       "      <td>Autoszerviz</td>\n",
       "      <td>Car service</td>\n",
       "      <td>2015-09-06 18:40:30</td>\n",
       "      <td>9</td>\n",
       "      <td>36</td>\n",
       "      <td>1441564830000000000</td>\n",
       "      <td>-64036.0</td>\n",
       "    </tr>\n",
       "    <tr>\n",
       "      <th>52783</th>\n",
       "      <td>2016-05-10 11:59:53</td>\n",
       "      <td>Tuesday</td>\n",
       "      <td>Checking account</td>\n",
       "      <td>12092048-41962343</td>\n",
       "      <td>Raiffeisen bank</td>\n",
       "      <td>-33216 HUF</td>\n",
       "      <td>Card transaction</td>\n",
       "      <td>Autoszerviz</td>\n",
       "      <td>Car service</td>\n",
       "      <td>2016-05-10 11:59:53</td>\n",
       "      <td>5</td>\n",
       "      <td>19</td>\n",
       "      <td>1462881593000000000</td>\n",
       "      <td>-33216.0</td>\n",
       "    </tr>\n",
       "    <tr>\n",
       "      <th>54079</th>\n",
       "      <td>2016-05-22 10:46:44</td>\n",
       "      <td>Sunday</td>\n",
       "      <td>Checking account</td>\n",
       "      <td>12092048-41962343</td>\n",
       "      <td>Raiffeisen bank</td>\n",
       "      <td>-42735 HUF</td>\n",
       "      <td>Card transaction</td>\n",
       "      <td>Autoszerviz</td>\n",
       "      <td>Car service</td>\n",
       "      <td>2016-05-22 10:46:44</td>\n",
       "      <td>5</td>\n",
       "      <td>20</td>\n",
       "      <td>1463914004000000000</td>\n",
       "      <td>-42735.0</td>\n",
       "    </tr>\n",
       "    <tr>\n",
       "      <th>89167</th>\n",
       "      <td>2017-04-16 10:12:38</td>\n",
       "      <td>Sunday</td>\n",
       "      <td>Checking account</td>\n",
       "      <td>12092048-41962343</td>\n",
       "      <td>Raiffeisen bank</td>\n",
       "      <td>-53064 HUF</td>\n",
       "      <td>Card transaction</td>\n",
       "      <td>Autoszerviz</td>\n",
       "      <td>Car service</td>\n",
       "      <td>2017-04-16 10:12:38</td>\n",
       "      <td>4</td>\n",
       "      <td>15</td>\n",
       "      <td>1492337558000000000</td>\n",
       "      <td>-53064.0</td>\n",
       "    </tr>\n",
       "    <tr>\n",
       "      <th>115397</th>\n",
       "      <td>2017-12-20 09:54:24</td>\n",
       "      <td>Wednesday</td>\n",
       "      <td>Checking account</td>\n",
       "      <td>12092048-41962343</td>\n",
       "      <td>Raiffeisen bank</td>\n",
       "      <td>-56339 HUF</td>\n",
       "      <td>Card transaction</td>\n",
       "      <td>Autoszerviz</td>\n",
       "      <td>Car service</td>\n",
       "      <td>2017-12-20 09:54:24</td>\n",
       "      <td>12</td>\n",
       "      <td>51</td>\n",
       "      <td>1513763664000000000</td>\n",
       "      <td>-56339.0</td>\n",
       "    </tr>\n",
       "  </tbody>\n",
       "</table>\n",
       "</div>"
      ],
      "text/plain": [
       "           Transaction date Transaction day      Account type  \\\n",
       "10950   2015-04-15 09:54:47       Wednesday  Checking account   \n",
       "26340   2015-09-06 18:40:30          Sunday  Checking account   \n",
       "52783   2016-05-10 11:59:53         Tuesday  Checking account   \n",
       "54079   2016-05-22 10:46:44          Sunday  Checking account   \n",
       "89167   2017-04-16 10:12:38          Sunday  Checking account   \n",
       "115397  2017-12-20 09:54:24       Wednesday  Checking account   \n",
       "\n",
       "       Account id(first 16 numbers)        Bank name      Amount  \\\n",
       "10950             12092048-41962343  Raiffeisen bank  -51268 HUF   \n",
       "26340             12092048-41962343  Raiffeisen bank  -64036 HUF   \n",
       "52783             12092048-41962343  Raiffeisen bank  -33216 HUF   \n",
       "54079             12092048-41962343  Raiffeisen bank  -42735 HUF   \n",
       "89167             12092048-41962343  Raiffeisen bank  -53064 HUF   \n",
       "115397            12092048-41962343  Raiffeisen bank  -56339 HUF   \n",
       "\n",
       "        Transaction type  Description     Category            Date_new  \\\n",
       "10950   Card transaction  Autoszerviz  Car service 2015-04-15 09:54:47   \n",
       "26340   Card transaction  Autoszerviz  Car service 2015-09-06 18:40:30   \n",
       "52783   Card transaction  Autoszerviz  Car service 2016-05-10 11:59:53   \n",
       "54079   Card transaction  Autoszerviz  Car service 2016-05-22 10:46:44   \n",
       "89167   Card transaction  Autoszerviz  Car service 2017-04-16 10:12:38   \n",
       "115397  Card transaction  Autoszerviz  Car service 2017-12-20 09:54:24   \n",
       "\n",
       "        Date_month  Date_week             date_int    money  \n",
       "10950            4         16  1429091687000000000 -51268.0  \n",
       "26340            9         36  1441564830000000000 -64036.0  \n",
       "52783            5         19  1462881593000000000 -33216.0  \n",
       "54079            5         20  1463914004000000000 -42735.0  \n",
       "89167            4         15  1492337558000000000 -53064.0  \n",
       "115397          12         51  1513763664000000000 -56339.0  "
      ]
     },
     "execution_count": 48,
     "metadata": {},
     "output_type": "execute_result"
    }
   ],
   "source": [
    " one_desc=one_df[(one_df['Description'] == 'Autoszerviz')]\n",
    "one_desc"
   ]
  },
  {
   "cell_type": "code",
   "execution_count": 9,
   "metadata": {
    "collapsed": true
   },
   "outputs": [],
   "source": []
  },
  {
   "cell_type": "code",
   "execution_count": null,
   "metadata": {
    "collapsed": true
   },
   "outputs": [],
   "source": []
  },
  {
   "cell_type": "code",
   "execution_count": null,
   "metadata": {
    "collapsed": true
   },
   "outputs": [],
   "source": [
    "\n"
   ]
  },
  {
   "cell_type": "code",
   "execution_count": null,
   "metadata": {
    "collapsed": true
   },
   "outputs": [],
   "source": [
    "plt.plot(one_df['money'], one_df['Transaction day'],'.',color='red',label='many')"
   ]
  },
  {
   "cell_type": "code",
   "execution_count": null,
   "metadata": {
    "collapsed": true
   },
   "outputs": [],
   "source": [
    "one_df.plot(kind='scatter',x='money',y='Transaction day')"
   ]
  },
  {
   "cell_type": "code",
   "execution_count": 41,
   "metadata": {},
   "outputs": [],
   "source": [
    "test=one_desc.groupby(['Account id(first 16 numbers)','Description','Date_month','Date_week'])['money'].mean()"
   ]
  },
  {
   "cell_type": "code",
   "execution_count": 47,
   "metadata": {},
   "outputs": [
    {
     "data": {
      "text/plain": [
       "Account id(first 16 numbers)  Description             Date_month\n",
       "12092048-41962343             Autoszerviz             4            -52166.000000\n",
       "                                                      5            -37975.500000\n",
       "                                                      9            -64036.000000\n",
       "                                                      12           -56339.000000\n",
       "                              Cash withdrawal         1            -33285.714286\n",
       "                                                      2            -36000.000000\n",
       "                                                      3            -39333.333333\n",
       "                                                      4            -34428.571429\n",
       "                                                      5            -80041.250000\n",
       "                                                      6            -30600.000000\n",
       "                                                      7            -52250.000000\n",
       "                                                      8            -39000.000000\n",
       "                                                      9            -45116.888889\n",
       "                                                      10           -27285.714286\n",
       "                                                      11           -25555.555556\n",
       "                                                      12           -35166.666667\n",
       "                              Cortina Sport Budapest  1            -11617.200000\n",
       "                                                      2             -9424.666667\n",
       "                                                      3             -8831.666667\n",
       "                                                      4             -8013.800000\n",
       "                                                      5             -4900.666667\n",
       "                                                      6             -6978.333333\n",
       "                                                      7             -5507.400000\n",
       "                                                      8             -4765.600000\n",
       "                                                      9             -6058.750000\n",
       "                                                      10            -5452.200000\n",
       "                                                      11            -8951.800000\n",
       "                                                      12            -7813.500000\n",
       "                              DECATHLON               2             -8721.000000\n",
       "                                                      3             -6301.000000\n",
       "                                                                        ...     \n",
       "                              Telekom                 12           -15762.333333\n",
       "                              VAPIANO BUDAPEST        1             -4649.500000\n",
       "                                                      2             -7674.000000\n",
       "                                                      3             -2968.000000\n",
       "                                                      4             -2894.500000\n",
       "                                                      7             -3843.000000\n",
       "                                                      9             -6243.000000\n",
       "                                                      10            -3149.500000\n",
       "                                                      11            -4499.500000\n",
       "                              WATER                   1             -5236.666667\n",
       "                                                      2             -5236.666667\n",
       "                                                      3             -5236.666667\n",
       "                                                      4             -5236.666667\n",
       "                                                      5             -5125.000000\n",
       "                                                      6             -5236.666667\n",
       "                                                      7             -5236.666667\n",
       "                                                      8             -5236.666667\n",
       "                                                      9             -5236.666667\n",
       "                                                      10            -5236.666667\n",
       "                                                      11            -5236.666667\n",
       "                                                      12            -5236.666667\n",
       "                              ZILA KAVEHAZ BUDAPEST   3             -4644.666667\n",
       "                                                      4             -4078.000000\n",
       "                                                      6             -4159.500000\n",
       "                                                      7             -4712.000000\n",
       "                                                      8             -3405.000000\n",
       "                                                      9             -6174.000000\n",
       "                                                      10            -3650.333333\n",
       "                                                      11            -3890.750000\n",
       "                                                      12            -3345.000000\n",
       "Name: money, Length: 208, dtype: float64"
      ]
     },
     "execution_count": 47,
     "metadata": {},
     "output_type": "execute_result"
    }
   ],
   "source": [
    "test_df=one_df.groupby(['Account id(first 16 numbers)','Description','Date_month'])['money'].mean()\n",
    "test_df"
   ]
  },
  {
   "cell_type": "code",
   "execution_count": null,
   "metadata": {
    "collapsed": true
   },
   "outputs": [],
   "source": []
  },
  {
   "cell_type": "code",
   "execution_count": null,
   "metadata": {
    "collapsed": true,
    "scrolled": true
   },
   "outputs": [],
   "source": [
    "pd.plotting.scatter_matrix(one_df[['Date_week','Description','money']],figsize=(10,10))"
   ]
  },
  {
   "cell_type": "code",
   "execution_count": 52,
   "metadata": {},
   "outputs": [
    {
     "data": {
      "text/plain": [
       "<matplotlib.axes._subplots.AxesSubplot at 0x2b855295160>"
      ]
     },
     "execution_count": 52,
     "metadata": {},
     "output_type": "execute_result"
    },
    {
     "data": {
      "image/png": "[encoded data removed]",
      "text/plain": [
       "<matplotlib.figure.Figure at 0x2b854eaec50>"
      ]
     },
     "metadata": {},
     "output_type": "display_data"
    }
   ],
   "source": [
    "test.plot(x='Description', y='money', kind='line', figsize=(20,5))"
   ]
  },
  {
   "cell_type": "code",
   "execution_count": null,
   "metadata": {},
   "outputs": [],
   "source": []
  },
  {
   "cell_type": "code",
   "execution_count": null,
   "metadata": {
    "collapsed": true
   },
   "outputs": [],
   "source": [
    "one_df.plot.scatter('Description', 'money', c='Date_month', colormap='jet')"
   ]
  },
  {
   "cell_type": "code",
   "execution_count": 58,
   "metadata": {
    "collapsed": true
   },
   "outputs": [],
   "source": [
    "from __future__ import print_function\n",
    "from ipywidgets import interact, interactive, fixed, interact_manual\n",
    "import ipywidgets as widgets"
   ]
  },
  {
   "cell_type": "code",
   "execution_count": 59,
   "metadata": {
    "collapsed": true
   },
   "outputs": [],
   "source": [
    "def f(x):\n",
    "    return "
   ]
  },
  {
   "cell_type": "code",
   "execution_count": 60,
   "metadata": {},
   "outputs": [
    {
     "data": {
      "application/vnd.jupyter.widget-view+json": {
       "model_id": "f23bc2e89f11400bab38308f081a5997"
      }
     },
     "metadata": {},
     "output_type": "display_data"
    }
   ],
   "source": [
    "interact(f, x=10);"
   ]
  },
  {
   "cell_type": "code",
   "execution_count": 56,
   "metadata": {},
   "outputs": [
    {
     "ename": "ValueError",
     "evalue": "Unrecognized character a in format string",
     "output_type": "error",
     "traceback": [
      "\u001b[1;31m---------------------------------------------------------------------------\u001b[0m",
      "\u001b[1;31mValueError\u001b[0m                                Traceback (most recent call last)",
      "\u001b[1;32m<ipython-input-56-3a266ad30b7f>\u001b[0m in \u001b[0;36m<module>\u001b[1;34m()\u001b[0m\n\u001b[0;32m      3\u001b[0m \u001b[0max\u001b[0m \u001b[1;33m=\u001b[0m \u001b[0mfig\u001b[0m\u001b[1;33m.\u001b[0m\u001b[0mgca\u001b[0m\u001b[1;33m(\u001b[0m\u001b[0mprojection\u001b[0m\u001b[1;33m=\u001b[0m\u001b[1;34m'3d'\u001b[0m\u001b[1;33m)\u001b[0m\u001b[1;33m\u001b[0m\u001b[0m\n\u001b[0;32m      4\u001b[0m \u001b[1;33m\u001b[0m\u001b[0m\n\u001b[1;32m----> 5\u001b[1;33m \u001b[0max\u001b[0m\u001b[1;33m.\u001b[0m\u001b[0mplot\u001b[0m\u001b[1;33m(\u001b[0m\u001b[1;34m\"Description\"\u001b[0m\u001b[1;33m,\u001b[0m \u001b[1;34m\"money\"\u001b[0m\u001b[1;33m,\u001b[0m \u001b[1;34m'Date_month'\u001b[0m\u001b[1;33m,\u001b[0m \u001b[0mlw\u001b[0m\u001b[1;33m=\u001b[0m\u001b[1;36m0.5\u001b[0m\u001b[1;33m,\u001b[0m\u001b[0mcolor\u001b[0m \u001b[1;33m=\u001b[0m \u001b[1;34m\"magenta\"\u001b[0m\u001b[1;33m)\u001b[0m\u001b[1;33m\u001b[0m\u001b[0m\n\u001b[0m\u001b[0;32m      6\u001b[0m \u001b[0max\u001b[0m\u001b[1;33m.\u001b[0m\u001b[0mset_xlabel\u001b[0m\u001b[1;33m(\u001b[0m\u001b[1;34m\"X Axis\"\u001b[0m\u001b[1;33m)\u001b[0m\u001b[1;33m\u001b[0m\u001b[0m\n\u001b[0;32m      7\u001b[0m \u001b[0max\u001b[0m\u001b[1;33m.\u001b[0m\u001b[0mset_ylabel\u001b[0m\u001b[1;33m(\u001b[0m\u001b[1;34m\"Y Axis\"\u001b[0m\u001b[1;33m)\u001b[0m\u001b[1;33m\u001b[0m\u001b[0m\n",
      "\u001b[1;32mC:\\Users\\User\\Anaconda3\\lib\\site-packages\\mpl_toolkits\\mplot3d\\axes3d.py\u001b[0m in \u001b[0;36mplot\u001b[1;34m(self, xs, ys, *args, **kwargs)\u001b[0m\n\u001b[0;32m   1535\u001b[0m             \u001b[0mzs\u001b[0m \u001b[1;33m=\u001b[0m \u001b[0mnp\u001b[0m\u001b[1;33m.\u001b[0m\u001b[0mones\u001b[0m\u001b[1;33m(\u001b[0m\u001b[0mlen\u001b[0m\u001b[1;33m(\u001b[0m\u001b[0mxs\u001b[0m\u001b[1;33m)\u001b[0m\u001b[1;33m)\u001b[0m \u001b[1;33m*\u001b[0m \u001b[0mzs\u001b[0m\u001b[1;33m\u001b[0m\u001b[0m\n\u001b[0;32m   1536\u001b[0m \u001b[1;33m\u001b[0m\u001b[0m\n\u001b[1;32m-> 1537\u001b[1;33m         \u001b[0mlines\u001b[0m \u001b[1;33m=\u001b[0m \u001b[0mAxes\u001b[0m\u001b[1;33m.\u001b[0m\u001b[0mplot\u001b[0m\u001b[1;33m(\u001b[0m\u001b[0mself\u001b[0m\u001b[1;33m,\u001b[0m \u001b[0mxs\u001b[0m\u001b[1;33m,\u001b[0m \u001b[0mys\u001b[0m\u001b[1;33m,\u001b[0m \u001b[1;33m*\u001b[0m\u001b[0margs\u001b[0m\u001b[1;33m[\u001b[0m\u001b[0margsi\u001b[0m\u001b[1;33m:\u001b[0m\u001b[1;33m]\u001b[0m\u001b[1;33m,\u001b[0m \u001b[1;33m**\u001b[0m\u001b[0mkwargs\u001b[0m\u001b[1;33m)\u001b[0m\u001b[1;33m\u001b[0m\u001b[0m\n\u001b[0m\u001b[0;32m   1538\u001b[0m         \u001b[1;32mfor\u001b[0m \u001b[0mline\u001b[0m \u001b[1;32min\u001b[0m \u001b[0mlines\u001b[0m\u001b[1;33m:\u001b[0m\u001b[1;33m\u001b[0m\u001b[0m\n\u001b[0;32m   1539\u001b[0m             \u001b[0mart3d\u001b[0m\u001b[1;33m.\u001b[0m\u001b[0mline_2d_to_3d\u001b[0m\u001b[1;33m(\u001b[0m\u001b[0mline\u001b[0m\u001b[1;33m,\u001b[0m \u001b[0mzs\u001b[0m\u001b[1;33m=\u001b[0m\u001b[0mzs\u001b[0m\u001b[1;33m,\u001b[0m \u001b[0mzdir\u001b[0m\u001b[1;33m=\u001b[0m\u001b[0mzdir\u001b[0m\u001b[1;33m)\u001b[0m\u001b[1;33m\u001b[0m\u001b[0m\n",
      "\u001b[1;32mC:\\Users\\User\\Anaconda3\\lib\\site-packages\\matplotlib\\__init__.py\u001b[0m in \u001b[0;36minner\u001b[1;34m(ax, *args, **kwargs)\u001b[0m\n\u001b[0;32m   1895\u001b[0m                     warnings.warn(msg % (label_namer, func.__name__),\n\u001b[0;32m   1896\u001b[0m                                   RuntimeWarning, stacklevel=2)\n\u001b[1;32m-> 1897\u001b[1;33m             \u001b[1;32mreturn\u001b[0m \u001b[0mfunc\u001b[0m\u001b[1;33m(\u001b[0m\u001b[0max\u001b[0m\u001b[1;33m,\u001b[0m \u001b[1;33m*\u001b[0m\u001b[0margs\u001b[0m\u001b[1;33m,\u001b[0m \u001b[1;33m**\u001b[0m\u001b[0mkwargs\u001b[0m\u001b[1;33m)\u001b[0m\u001b[1;33m\u001b[0m\u001b[0m\n\u001b[0m\u001b[0;32m   1898\u001b[0m         \u001b[0mpre_doc\u001b[0m \u001b[1;33m=\u001b[0m \u001b[0minner\u001b[0m\u001b[1;33m.\u001b[0m\u001b[0m__doc__\u001b[0m\u001b[1;33m\u001b[0m\u001b[0m\n\u001b[0;32m   1899\u001b[0m         \u001b[1;32mif\u001b[0m \u001b[0mpre_doc\u001b[0m \u001b[1;32mis\u001b[0m \u001b[1;32mNone\u001b[0m\u001b[1;33m:\u001b[0m\u001b[1;33m\u001b[0m\u001b[0m\n",
      "\u001b[1;32mC:\\Users\\User\\Anaconda3\\lib\\site-packages\\matplotlib\\axes\\_axes.py\u001b[0m in \u001b[0;36mplot\u001b[1;34m(self, *args, **kwargs)\u001b[0m\n\u001b[0;32m   1404\u001b[0m         \u001b[0mkwargs\u001b[0m \u001b[1;33m=\u001b[0m \u001b[0mcbook\u001b[0m\u001b[1;33m.\u001b[0m\u001b[0mnormalize_kwargs\u001b[0m\u001b[1;33m(\u001b[0m\u001b[0mkwargs\u001b[0m\u001b[1;33m,\u001b[0m \u001b[0m_alias_map\u001b[0m\u001b[1;33m)\u001b[0m\u001b[1;33m\u001b[0m\u001b[0m\n\u001b[0;32m   1405\u001b[0m \u001b[1;33m\u001b[0m\u001b[0m\n\u001b[1;32m-> 1406\u001b[1;33m         \u001b[1;32mfor\u001b[0m \u001b[0mline\u001b[0m \u001b[1;32min\u001b[0m \u001b[0mself\u001b[0m\u001b[1;33m.\u001b[0m\u001b[0m_get_lines\u001b[0m\u001b[1;33m(\u001b[0m\u001b[1;33m*\u001b[0m\u001b[0margs\u001b[0m\u001b[1;33m,\u001b[0m \u001b[1;33m**\u001b[0m\u001b[0mkwargs\u001b[0m\u001b[1;33m)\u001b[0m\u001b[1;33m:\u001b[0m\u001b[1;33m\u001b[0m\u001b[0m\n\u001b[0m\u001b[0;32m   1407\u001b[0m             \u001b[0mself\u001b[0m\u001b[1;33m.\u001b[0m\u001b[0madd_line\u001b[0m\u001b[1;33m(\u001b[0m\u001b[0mline\u001b[0m\u001b[1;33m)\u001b[0m\u001b[1;33m\u001b[0m\u001b[0m\n\u001b[0;32m   1408\u001b[0m             \u001b[0mlines\u001b[0m\u001b[1;33m.\u001b[0m\u001b[0mappend\u001b[0m\u001b[1;33m(\u001b[0m\u001b[0mline\u001b[0m\u001b[1;33m)\u001b[0m\u001b[1;33m\u001b[0m\u001b[0m\n",
      "\u001b[1;32mC:\\Users\\User\\Anaconda3\\lib\\site-packages\\matplotlib\\axes\\_base.py\u001b[0m in \u001b[0;36m_grab_next_args\u001b[1;34m(self, *args, **kwargs)\u001b[0m\n\u001b[0;32m    405\u001b[0m                 \u001b[1;32mreturn\u001b[0m\u001b[1;33m\u001b[0m\u001b[0m\n\u001b[0;32m    406\u001b[0m             \u001b[1;32mif\u001b[0m \u001b[0mlen\u001b[0m\u001b[1;33m(\u001b[0m\u001b[0mremaining\u001b[0m\u001b[1;33m)\u001b[0m \u001b[1;33m<=\u001b[0m \u001b[1;36m3\u001b[0m\u001b[1;33m:\u001b[0m\u001b[1;33m\u001b[0m\u001b[0m\n\u001b[1;32m--> 407\u001b[1;33m                 \u001b[1;32mfor\u001b[0m \u001b[0mseg\u001b[0m \u001b[1;32min\u001b[0m \u001b[0mself\u001b[0m\u001b[1;33m.\u001b[0m\u001b[0m_plot_args\u001b[0m\u001b[1;33m(\u001b[0m\u001b[0mremaining\u001b[0m\u001b[1;33m,\u001b[0m \u001b[0mkwargs\u001b[0m\u001b[1;33m)\u001b[0m\u001b[1;33m:\u001b[0m\u001b[1;33m\u001b[0m\u001b[0m\n\u001b[0m\u001b[0;32m    408\u001b[0m                     \u001b[1;32myield\u001b[0m \u001b[0mseg\u001b[0m\u001b[1;33m\u001b[0m\u001b[0m\n\u001b[0;32m    409\u001b[0m                 \u001b[1;32mreturn\u001b[0m\u001b[1;33m\u001b[0m\u001b[0m\n",
      "\u001b[1;32mC:\\Users\\User\\Anaconda3\\lib\\site-packages\\matplotlib\\axes\\_base.py\u001b[0m in \u001b[0;36m_plot_args\u001b[1;34m(self, tup, kwargs)\u001b[0m\n\u001b[0;32m    355\u001b[0m         \u001b[0mret\u001b[0m \u001b[1;33m=\u001b[0m \u001b[1;33m[\u001b[0m\u001b[1;33m]\u001b[0m\u001b[1;33m\u001b[0m\u001b[0m\n\u001b[0;32m    356\u001b[0m         \u001b[1;32mif\u001b[0m \u001b[0mlen\u001b[0m\u001b[1;33m(\u001b[0m\u001b[0mtup\u001b[0m\u001b[1;33m)\u001b[0m \u001b[1;33m>\u001b[0m \u001b[1;36m1\u001b[0m \u001b[1;32mand\u001b[0m \u001b[0mis_string_like\u001b[0m\u001b[1;33m(\u001b[0m\u001b[0mtup\u001b[0m\u001b[1;33m[\u001b[0m\u001b[1;33m-\u001b[0m\u001b[1;36m1\u001b[0m\u001b[1;33m]\u001b[0m\u001b[1;33m)\u001b[0m\u001b[1;33m:\u001b[0m\u001b[1;33m\u001b[0m\u001b[0m\n\u001b[1;32m--> 357\u001b[1;33m             \u001b[0mlinestyle\u001b[0m\u001b[1;33m,\u001b[0m \u001b[0mmarker\u001b[0m\u001b[1;33m,\u001b[0m \u001b[0mcolor\u001b[0m \u001b[1;33m=\u001b[0m \u001b[0m_process_plot_format\u001b[0m\u001b[1;33m(\u001b[0m\u001b[0mtup\u001b[0m\u001b[1;33m[\u001b[0m\u001b[1;33m-\u001b[0m\u001b[1;36m1\u001b[0m\u001b[1;33m]\u001b[0m\u001b[1;33m)\u001b[0m\u001b[1;33m\u001b[0m\u001b[0m\n\u001b[0m\u001b[0;32m    358\u001b[0m             \u001b[0mtup\u001b[0m \u001b[1;33m=\u001b[0m \u001b[0mtup\u001b[0m\u001b[1;33m[\u001b[0m\u001b[1;33m:\u001b[0m\u001b[1;33m-\u001b[0m\u001b[1;36m1\u001b[0m\u001b[1;33m]\u001b[0m\u001b[1;33m\u001b[0m\u001b[0m\n\u001b[0;32m    359\u001b[0m         \u001b[1;32melif\u001b[0m \u001b[0mlen\u001b[0m\u001b[1;33m(\u001b[0m\u001b[0mtup\u001b[0m\u001b[1;33m)\u001b[0m \u001b[1;33m==\u001b[0m \u001b[1;36m3\u001b[0m\u001b[1;33m:\u001b[0m\u001b[1;33m\u001b[0m\u001b[0m\n",
      "\u001b[1;32mC:\\Users\\User\\Anaconda3\\lib\\site-packages\\matplotlib\\axes\\_base.py\u001b[0m in \u001b[0;36m_process_plot_format\u001b[1;34m(fmt)\u001b[0m\n\u001b[0;32m    128\u001b[0m         \u001b[1;32melse\u001b[0m\u001b[1;33m:\u001b[0m\u001b[1;33m\u001b[0m\u001b[0m\n\u001b[0;32m    129\u001b[0m             raise ValueError(\n\u001b[1;32m--> 130\u001b[1;33m                 'Unrecognized character %c in format string' % c)\n\u001b[0m\u001b[0;32m    131\u001b[0m         \u001b[0mi\u001b[0m \u001b[1;33m+=\u001b[0m \u001b[1;36m1\u001b[0m\u001b[1;33m\u001b[0m\u001b[0m\n\u001b[0;32m    132\u001b[0m \u001b[1;33m\u001b[0m\u001b[0m\n",
      "\u001b[1;31mValueError\u001b[0m: Unrecognized character a in format string"
     ]
    },
    {
     "data": {
      "image/png": "[encoded data removed]",
      "text/plain": [
       "<matplotlib.figure.Figure at 0x2b8553a0048>"
      ]
     },
     "metadata": {},
     "output_type": "display_data"
    }
   ],
   "source": [
    "\n",
    "fig = plt.figure()\n",
    "ax = fig.gca(projection='3d')\n",
    "\n",
    "ax.plot(\"Description\", \"money\", 'Date_month', lw=0.5,color = \"magenta\")\n",
    "ax.set_xlabel(\"X Axis\")\n",
    "ax.set_ylabel(\"Y Axis\")\n",
    "ax.set_zlabel(\"Z Axis\")\n",
    "ax.set_title(\"Lorenz Attractor\")\n",
    "\n",
    "plt.show()\n"
   ]
  },
  {
   "cell_type": "code",
   "execution_count": 57,
   "metadata": {},
   "outputs": [
    {
     "ename": "NameError",
     "evalue": "name 'lorencz_attractor' is not defined",
     "output_type": "error",
     "traceback": [
      "\u001b[1;31m---------------------------------------------------------------------------\u001b[0m",
      "\u001b[1;31mNameError\u001b[0m                                 Traceback (most recent call last)",
      "\u001b[1;32m<ipython-input-57-b51754ee3024>\u001b[0m in \u001b[0;36m<module>\u001b[1;34m()\u001b[0m\n\u001b[1;32m----> 1\u001b[1;33m w=widgets.interactive(lorencz_attractor,s=10, r=28, b=2.667, \n\u001b[0m\u001b[0;32m      2\u001b[0m                       \u001b[0mx_start\u001b[0m\u001b[1;33m=\u001b[0m\u001b[1;36m0.\u001b[0m\u001b[1;33m,\u001b[0m \u001b[0my_start\u001b[0m\u001b[1;33m=\u001b[0m\u001b[1;36m1.\u001b[0m\u001b[1;33m,\u001b[0m \u001b[0mz_start\u001b[0m\u001b[1;33m=\u001b[0m\u001b[1;36m1.05\u001b[0m\u001b[1;33m,\u001b[0m\u001b[1;33m\u001b[0m\u001b[0m\n\u001b[0;32m      3\u001b[0m                       \u001b[0mstepAmount\u001b[0m \u001b[1;33m=\u001b[0m\u001b[1;36m10000\u001b[0m\u001b[1;33m,\u001b[0m\u001b[1;33m\u001b[0m\u001b[0m\n\u001b[0;32m      4\u001b[0m                       accuracy = 0.001)\n\u001b[0;32m      5\u001b[0m \u001b[0mdisplay\u001b[0m\u001b[1;33m(\u001b[0m\u001b[0mw\u001b[0m\u001b[1;33m)\u001b[0m\u001b[1;33m\u001b[0m\u001b[0m\n",
      "\u001b[1;31mNameError\u001b[0m: name 'lorencz_attractor' is not defined"
     ]
    }
   ],
   "source": [
    "w=widgets.interactive(,s=10, r=28, b=2.667, \n",
    "                      x_start=0., y_start=1., z_start=1.05, \n",
    "                      stepAmount =10000, \n",
    "                      accuracy = 0.001)\n",
    "display(w)"
   ]
  },
  {
   "cell_type": "code",
   "execution_count": null,
   "metadata": {
    "collapsed": true
   },
   "outputs": [],
   "source": []
  }
 ],
 "metadata": {
  "kernelspec": {
   "display_name": "Python 3",
   "language": "python",
   "name": "python3"
  },
  "language_info": {
   "codemirror_mode": {
    "name": "ipython",
    "version": 3
   },
   "file_extension": ".py",
   "mimetype": "text/x-python",
   "name": "python",
   "nbconvert_exporter": "python",
   "pygments_lexer": "ipython3",
   "version": "3.6.1"
  }
 },
 "nbformat": 4,
 "nbformat_minor": 2
}
